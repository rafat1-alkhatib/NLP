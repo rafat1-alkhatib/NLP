{
  "nbformat": 4,
  "nbformat_minor": 0,
  "metadata": {
    "colab": {
      "provenance": []
    },
    "kernelspec": {
      "name": "python3",
      "display_name": "Python 3"
    },
    "language_info": {
      "name": "python"
    }
  },
  "cells": [
    {
      "cell_type": "code",
      "execution_count": null,
      "metadata": {
        "id": "be7VMvuHz7om"
      },
      "outputs": [],
      "source": [
        "# !pip install torchtext==0.6.0\n",
        "# !pip install torch\n"
      ]
    },
    {
      "cell_type": "code",
      "source": [
        "import pandas as pd\n",
        "from sklearn.model_selection import train_test_split\n",
        "from sklearn.metrics import accuracy_score\n",
        "import numpy  as np\n",
        "import torch\n",
        "import torchtext as td\n",
        "import nltk\n",
        "from torchtext.data import Field , BucketIterator, TabularDataset , LabelField\n",
        "from nltk import word_tokenize\n",
        "import torch.nn as nn\n",
        "import glob\n",
        "from io import open\n",
        "import os"
      ],
      "metadata": {
        "id": "sgs2QWt99dGq"
      },
      "execution_count": null,
      "outputs": []
    },
    {
      "cell_type": "code",
      "source": [
        "class RNN(nn.Module):\n",
        "\n",
        "    def __init__(self, input_dim, embedding_dim, hidden_dim, output_dim):\n",
        "\n",
        "        super().__init__()\n",
        "\n",
        "        self.embedding = nn.Embedding(input_dim, embedding_dim)\n",
        "\n",
        "        self.rnn = nn.RNN(embedding_dim, hidden_dim)\n",
        "\n",
        "        self.fc = nn.Linear(hidden_dim, output_dim)\n",
        "\n",
        "    def forward(self, text):\n",
        "\n",
        "        embedded = self.embedding(text)\n",
        "\n",
        "        output, hidden = self.rnn(embedded)\n",
        "\n",
        "        hidden_1D = hidden.squeeze(0)\n",
        "\n",
        "        assert torch.equal(output[-1, :, :], hidden_1D)\n",
        "\n",
        "        return self.fc(hidden_1D)"
      ],
      "metadata": {
        "id": "aH77Ea_ffszb"
      },
      "execution_count": null,
      "outputs": []
    },
    {
      "cell_type": "code",
      "source": [
        "class RNN1(nn.Module):\n",
        "\n",
        "    def __init__(self, input_dim, embedding_dim, hidden_dim, output_dim):\n",
        "\n",
        "        super().__init__()\n",
        "\n",
        "        self.embedding = nn.Embedding(input_dim, embedding_dim)\n",
        "\n",
        "        self.rnn = nn.LSTM(embedding_dim, hidden_dim)\n",
        "\n",
        "        self.fc = nn.Linear(hidden_dim, output_dim)\n",
        "\n",
        "    def forward(self, text):\n",
        "\n",
        "        embedded = self.embedding(text)\n",
        "\n",
        "        output, (hidden, _) = self.rnn(embedded)\n",
        "\n",
        "        hidden_1D = hidden.squeeze(0)\n",
        "\n",
        "        assert torch.equal(output[-1, :, :], hidden_1D)\n",
        "\n",
        "        return self.fc(hidden_1D)"
      ],
      "metadata": {
        "id": "qwCTpCG7f2Dy"
      },
      "execution_count": null,
      "outputs": []
    },
    {
      "cell_type": "code",
      "source": [
        "class RNN2(nn.Module):\n",
        "\n",
        "    def __init__(self, input_dim, embedding_dim, hidden_dim, output_dim):\n",
        "\n",
        "        super().__init__()\n",
        "\n",
        "        self.embedding = nn.Embedding(input_dim, embedding_dim)\n",
        "\n",
        "        self.rnn = nn.LSTM(embedding_dim, hidden_dim)\n",
        "\n",
        "        self.fc = nn.Linear(hidden_dim, output_dim)\n",
        "\n",
        "        self.dropout = nn.Dropout(0.3)\n",
        "\n",
        "    def forward(self, text):\n",
        "\n",
        "        embedded = self.embedding(text)\n",
        "\n",
        "        embedded_dropout = self.dropout(embedded)\n",
        "\n",
        "        output, (hidden, _) = self.rnn(embedded_dropout)\n",
        "\n",
        "        hidden_1D = hidden.squeeze(0)\n",
        "\n",
        "        assert torch.equal(output[-1, :, :], hidden_1D)\n",
        "\n",
        "        return self.fc(hidden_1D)"
      ],
      "metadata": {
        "id": "-59cmkvdgBjb"
      },
      "execution_count": null,
      "outputs": []
    },
    {
      "cell_type": "code",
      "source": [
        "import torch.nn as nn\n",
        "\n",
        "class RNN3(nn.Module):\n",
        "\n",
        "    def __init__(self, input_size, hidden_size, output_size):\n",
        "\n",
        "        super(RNN3, self).__init__()\n",
        "\n",
        "        self.hidden_size = hidden_size\n",
        "\n",
        "        self.i2h = nn.Linear(input_size + hidden_size, hidden_size)\n",
        "\n",
        "        self.i2o = nn.Linear(input_size + hidden_size, output_size)\n",
        "\n",
        "        self.softmax = nn.LogSoftmax(dim=1)\n",
        "\n",
        "    def forward(self, input, hidden):\n",
        "        combined = torch.cat((input, hidden), 1)\n",
        "\n",
        "        hidden = self.i2h(combined)\n",
        "\n",
        "        output = self.i2o(combined)\n",
        "        output = self.softmax(output)\n",
        "\n",
        "        return output, hidden\n",
        "\n",
        "    def initHidden(self):\n",
        "        return torch.zeros(1, self.hidden_size)"
      ],
      "metadata": {
        "id": "sLY_CXeJOFBj"
      },
      "execution_count": null,
      "outputs": []
    },
    {
      "cell_type": "code",
      "source": [
        "print(glob.glob('/content/datasets/*.txt'))"
      ],
      "metadata": {
        "id": "NGKjSbjxjV_4",
        "colab": {
          "base_uri": "https://localhost:8080/"
        },
        "outputId": "fbbf86b3-5f4e-418f-d1b6-c546aa586d0a"
      },
      "execution_count": null,
      "outputs": [
        {
          "output_type": "stream",
          "name": "stdout",
          "text": [
            "['/content/datasets/Russian.txt', '/content/datasets/Arabic.txt', '/content/datasets/Dutch.txt', '/content/datasets/Japanese.txt', '/content/datasets/Chinese.txt', '/content/datasets/German.txt', '/content/datasets/French.txt', '/content/datasets/Korean.txt', '/content/datasets/Vietnamese.txt', '/content/datasets/Czech.txt', '/content/datasets/Irish.txt', '/content/datasets/Polish.txt', '/content/datasets/Italian.txt', '/content/datasets/Scottish.txt', '/content/datasets/Portuguese.txt', '/content/datasets/Greek.txt', '/content/datasets/Spanish.txt', '/content/datasets/English.txt']\n"
          ]
        }
      ]
    },
    {
      "cell_type": "code",
      "source": [
        "import unicodedata\n",
        "import string\n",
        "\n",
        "all_letters = string.ascii_letters + \" .,;'\"\n",
        "n_letters = len(all_letters)\n",
        "\n",
        "all_letters"
      ],
      "metadata": {
        "colab": {
          "base_uri": "https://localhost:8080/",
          "height": 35
        },
        "id": "RBsmFnMaqJwT",
        "outputId": "d15aa09e-d119-4095-b1fd-aace1fcc1afa"
      },
      "execution_count": null,
      "outputs": [
        {
          "output_type": "execute_result",
          "data": {
            "text/plain": [
              "\"abcdefghijklmnopqrstuvwxyzABCDEFGHIJKLMNOPQRSTUVWXYZ .,;'\""
            ],
            "application/vnd.google.colaboratory.intrinsic+json": {
              "type": "string"
            }
          },
          "metadata": {},
          "execution_count": 51
        }
      ]
    },
    {
      "cell_type": "code",
      "source": [
        "n_letters"
      ],
      "metadata": {
        "colab": {
          "base_uri": "https://localhost:8080/"
        },
        "id": "t6YGN-QAqlfR",
        "outputId": "44bdaca0-abbe-463b-d094-23e5674c0526"
      },
      "execution_count": null,
      "outputs": [
        {
          "output_type": "execute_result",
          "data": {
            "text/plain": [
              "57"
            ]
          },
          "metadata": {},
          "execution_count": 52
        }
      ]
    },
    {
      "cell_type": "code",
      "source": [
        "language_names = {}\n",
        "\n",
        "all_languages = []"
      ],
      "metadata": {
        "id": "x3LYB0egq_Wb"
      },
      "execution_count": null,
      "outputs": []
    },
    {
      "cell_type": "code",
      "source": [
        "def unicodeToAscii(s):\n",
        "    return ''.join(\n",
        "        c for c in unicodedata.normalize('NFD', s)\n",
        "        if unicodedata.category(c) != 'Mn'\n",
        "        and c in all_letters\n",
        "    )"
      ],
      "metadata": {
        "id": "xTRZUdSGq_ZD"
      },
      "execution_count": null,
      "outputs": []
    },
    {
      "cell_type": "code",
      "source": [
        "print(unicodeToAscii('Emile'))"
      ],
      "metadata": {
        "colab": {
          "base_uri": "https://localhost:8080/"
        },
        "id": "JgxzH7fdq_bT",
        "outputId": "b47a870d-9ec5-4df1-890c-f2f2bb625650"
      },
      "execution_count": null,
      "outputs": [
        {
          "output_type": "stream",
          "name": "stdout",
          "text": [
            "Emile\n"
          ]
        }
      ]
    },
    {
      "cell_type": "code",
      "source": [
        "def findFiles(path) :\n",
        "  return glob.glob(path)"
      ],
      "metadata": {
        "id": "qEHPEQVFsQNi"
      },
      "execution_count": null,
      "outputs": []
    },
    {
      "cell_type": "code",
      "source": [
        "total_names = 0\n",
        "\n",
        "for filename in findFiles('/content/datasets/*.txt'):\n",
        "\n",
        "    language = os.path.splitext(os.path.basename(filename))[0]\n",
        "\n",
        "    all_languages.append(language)\n",
        "\n",
        "    read_names = open(filename, encoding='utf-8').read().strip().split('\\n')\n",
        "\n",
        "    names = [unicodeToAscii(line) for line in read_names]\n",
        "\n",
        "    language_names[language] = names\n",
        "\n",
        "    total_names += len(names)\n"
      ],
      "metadata": {
        "id": "t0kk63cPsciN"
      },
      "execution_count": null,
      "outputs": []
    },
    {
      "cell_type": "code",
      "source": [
        "total_names"
      ],
      "metadata": {
        "id": "Ol_NeCBWshg8",
        "colab": {
          "base_uri": "https://localhost:8080/"
        },
        "outputId": "809c528c-7901-48fd-ae57-7825cc9382c8"
      },
      "execution_count": null,
      "outputs": [
        {
          "output_type": "execute_result",
          "data": {
            "text/plain": [
              "20074"
            ]
          },
          "metadata": {},
          "execution_count": 58
        }
      ]
    },
    {
      "cell_type": "code",
      "source": [
        "all_languages"
      ],
      "metadata": {
        "colab": {
          "base_uri": "https://localhost:8080/"
        },
        "id": "7srxzaeIshjm",
        "outputId": "44bab466-0559-48fb-f2f0-6469da07cc84"
      },
      "execution_count": null,
      "outputs": [
        {
          "output_type": "execute_result",
          "data": {
            "text/plain": [
              "['Russian',\n",
              " 'Arabic',\n",
              " 'Dutch',\n",
              " 'Japanese',\n",
              " 'Chinese',\n",
              " 'German',\n",
              " 'French',\n",
              " 'Korean',\n",
              " 'Vietnamese',\n",
              " 'Czech',\n",
              " 'Irish',\n",
              " 'Polish',\n",
              " 'Italian',\n",
              " 'Scottish',\n",
              " 'Portuguese',\n",
              " 'Greek',\n",
              " 'Spanish',\n",
              " 'English']"
            ]
          },
          "metadata": {},
          "execution_count": 59
        }
      ]
    },
    {
      "cell_type": "code",
      "source": [
        "print(language_names['Korean'][:5])"
      ],
      "metadata": {
        "id": "-iLz07eetHBg",
        "colab": {
          "base_uri": "https://localhost:8080/"
        },
        "outputId": "654b966a-e44e-4c0b-9d25-80c6dc23f6a7"
      },
      "execution_count": null,
      "outputs": [
        {
          "output_type": "stream",
          "name": "stdout",
          "text": [
            "['Ahn', 'Baik', 'Bang', 'Byon', 'Cha']\n"
          ]
        }
      ]
    },
    {
      "cell_type": "code",
      "source": [
        "n_languages = len(all_languages)\n",
        "n_languages"
      ],
      "metadata": {
        "colab": {
          "base_uri": "https://localhost:8080/"
        },
        "id": "LHadbQzz3Vpf",
        "outputId": "5124445f-fae2-49eb-aa87-f945ae6e20c6"
      },
      "execution_count": null,
      "outputs": [
        {
          "output_type": "execute_result",
          "data": {
            "text/plain": [
              "18"
            ]
          },
          "metadata": {},
          "execution_count": 61
        }
      ]
    },
    {
      "cell_type": "code",
      "source": [
        "def letter_to_tensor(letter) :\n",
        "  tensor = torch.zeros(1,n_letters)\n",
        "\n",
        "\n",
        "  tensor[0][all_letters.find(letter)] = 1\n",
        "\n",
        "  return tensor"
      ],
      "metadata": {
        "id": "eEk7yIcH25ih"
      },
      "execution_count": null,
      "outputs": []
    },
    {
      "cell_type": "code",
      "source": [
        "print(letter_to_tensor('d'))"
      ],
      "metadata": {
        "colab": {
          "base_uri": "https://localhost:8080/"
        },
        "id": "9axG8YVN4ENX",
        "outputId": "24ccc18c-4504-40bd-8fba-0cc61e163c7e"
      },
      "execution_count": null,
      "outputs": [
        {
          "output_type": "stream",
          "name": "stdout",
          "text": [
            "tensor([[0., 0., 0., 1., 0., 0., 0., 0., 0., 0., 0., 0., 0., 0., 0., 0., 0., 0.,\n",
            "         0., 0., 0., 0., 0., 0., 0., 0., 0., 0., 0., 0., 0., 0., 0., 0., 0., 0.,\n",
            "         0., 0., 0., 0., 0., 0., 0., 0., 0., 0., 0., 0., 0., 0., 0., 0., 0., 0.,\n",
            "         0., 0., 0.]])\n"
          ]
        }
      ]
    },
    {
      "cell_type": "code",
      "source": [
        "def names_to_tensor(name) :\n",
        "  tensor = torch.zeros(len(name),1,n_letters)\n",
        "\n",
        "  for li , letters in enumerate(name) :\n",
        "    tensor[li][0][all_letters.find(letters)] = 1\n",
        "\n",
        "  return tensor"
      ],
      "metadata": {
        "id": "n9gjo66v4aP3"
      },
      "execution_count": null,
      "outputs": []
    },
    {
      "cell_type": "code",
      "source": [
        "names_to_tensor(language_names['Korean'][0])"
      ],
      "metadata": {
        "colab": {
          "base_uri": "https://localhost:8080/"
        },
        "id": "DDKcnCk35FtH",
        "outputId": "b912ab13-e9a4-422d-8bba-6d8a9bbd4c27"
      },
      "execution_count": null,
      "outputs": [
        {
          "output_type": "execute_result",
          "data": {
            "text/plain": [
              "tensor([[[0., 0., 0., 0., 0., 0., 0., 0., 0., 0., 0., 0., 0., 0., 0., 0., 0.,\n",
              "          0., 0., 0., 0., 0., 0., 0., 0., 0., 1., 0., 0., 0., 0., 0., 0., 0.,\n",
              "          0., 0., 0., 0., 0., 0., 0., 0., 0., 0., 0., 0., 0., 0., 0., 0., 0.,\n",
              "          0., 0., 0., 0., 0., 0.]],\n",
              "\n",
              "        [[0., 0., 0., 0., 0., 0., 0., 1., 0., 0., 0., 0., 0., 0., 0., 0., 0.,\n",
              "          0., 0., 0., 0., 0., 0., 0., 0., 0., 0., 0., 0., 0., 0., 0., 0., 0.,\n",
              "          0., 0., 0., 0., 0., 0., 0., 0., 0., 0., 0., 0., 0., 0., 0., 0., 0.,\n",
              "          0., 0., 0., 0., 0., 0.]],\n",
              "\n",
              "        [[0., 0., 0., 0., 0., 0., 0., 0., 0., 0., 0., 0., 0., 1., 0., 0., 0.,\n",
              "          0., 0., 0., 0., 0., 0., 0., 0., 0., 0., 0., 0., 0., 0., 0., 0., 0.,\n",
              "          0., 0., 0., 0., 0., 0., 0., 0., 0., 0., 0., 0., 0., 0., 0., 0., 0.,\n",
              "          0., 0., 0., 0., 0., 0.]]])"
            ]
          },
          "metadata": {},
          "execution_count": 65
        }
      ]
    },
    {
      "cell_type": "code",
      "source": [
        "names_to_tensor('pilal')"
      ],
      "metadata": {
        "colab": {
          "base_uri": "https://localhost:8080/"
        },
        "id": "_xiMFIAZ5-HX",
        "outputId": "49690a83-2f72-4054-d935-d0abebb08be9"
      },
      "execution_count": null,
      "outputs": [
        {
          "output_type": "execute_result",
          "data": {
            "text/plain": [
              "tensor([[[0., 0., 0., 0., 0., 0., 0., 0., 0., 0., 0., 0., 0., 0., 0., 1., 0.,\n",
              "          0., 0., 0., 0., 0., 0., 0., 0., 0., 0., 0., 0., 0., 0., 0., 0., 0.,\n",
              "          0., 0., 0., 0., 0., 0., 0., 0., 0., 0., 0., 0., 0., 0., 0., 0., 0.,\n",
              "          0., 0., 0., 0., 0., 0.]],\n",
              "\n",
              "        [[0., 0., 0., 0., 0., 0., 0., 0., 1., 0., 0., 0., 0., 0., 0., 0., 0.,\n",
              "          0., 0., 0., 0., 0., 0., 0., 0., 0., 0., 0., 0., 0., 0., 0., 0., 0.,\n",
              "          0., 0., 0., 0., 0., 0., 0., 0., 0., 0., 0., 0., 0., 0., 0., 0., 0.,\n",
              "          0., 0., 0., 0., 0., 0.]],\n",
              "\n",
              "        [[0., 0., 0., 0., 0., 0., 0., 0., 0., 0., 0., 1., 0., 0., 0., 0., 0.,\n",
              "          0., 0., 0., 0., 0., 0., 0., 0., 0., 0., 0., 0., 0., 0., 0., 0., 0.,\n",
              "          0., 0., 0., 0., 0., 0., 0., 0., 0., 0., 0., 0., 0., 0., 0., 0., 0.,\n",
              "          0., 0., 0., 0., 0., 0.]],\n",
              "\n",
              "        [[1., 0., 0., 0., 0., 0., 0., 0., 0., 0., 0., 0., 0., 0., 0., 0., 0.,\n",
              "          0., 0., 0., 0., 0., 0., 0., 0., 0., 0., 0., 0., 0., 0., 0., 0., 0.,\n",
              "          0., 0., 0., 0., 0., 0., 0., 0., 0., 0., 0., 0., 0., 0., 0., 0., 0.,\n",
              "          0., 0., 0., 0., 0., 0.]],\n",
              "\n",
              "        [[0., 0., 0., 0., 0., 0., 0., 0., 0., 0., 0., 1., 0., 0., 0., 0., 0.,\n",
              "          0., 0., 0., 0., 0., 0., 0., 0., 0., 0., 0., 0., 0., 0., 0., 0., 0.,\n",
              "          0., 0., 0., 0., 0., 0., 0., 0., 0., 0., 0., 0., 0., 0., 0., 0., 0.,\n",
              "          0., 0., 0., 0., 0., 0.]]])"
            ]
          },
          "metadata": {},
          "execution_count": 66
        }
      ]
    },
    {
      "cell_type": "code",
      "source": [
        "print(names_to_tensor('pilal').size())"
      ],
      "metadata": {
        "colab": {
          "base_uri": "https://localhost:8080/"
        },
        "id": "Ns7sDM9H7ufn",
        "outputId": "0b3b0ec6-1db6-4656-f369-fe4228acb58a"
      },
      "execution_count": null,
      "outputs": [
        {
          "output_type": "stream",
          "name": "stdout",
          "text": [
            "torch.Size([5, 1, 57])\n"
          ]
        }
      ]
    },
    {
      "cell_type": "code",
      "source": [
        "n_languages = len(all_languages)\n",
        "n_languages"
      ],
      "metadata": {
        "colab": {
          "base_uri": "https://localhost:8080/"
        },
        "id": "DH1lQxHNPW3L",
        "outputId": "6a45838d-8c36-44a0-f452-2a6c9eb185ae"
      },
      "execution_count": null,
      "outputs": [
        {
          "output_type": "execute_result",
          "data": {
            "text/plain": [
              "18"
            ]
          },
          "metadata": {},
          "execution_count": 68
        }
      ]
    },
    {
      "cell_type": "code",
      "source": [
        "n_hidden = 256\n",
        "\n",
        "rnn = RNN3(n_letters , n_hidden , n_languages )"
      ],
      "metadata": {
        "id": "ZouS3eitOQVj"
      },
      "execution_count": null,
      "outputs": []
    },
    {
      "cell_type": "code",
      "source": [
        "inp = letter_to_tensor('C')\n",
        "\n",
        "hidden = torch.zeros(1,n_hidden)\n",
        "\n",
        "output , nextHidden = rnn(inp , hidden)\n",
        "\n",
        "print('the output size : ' , output.size())\n",
        "\n",
        "print('the next_hidden size : ' , nextHidden.size())"
      ],
      "metadata": {
        "colab": {
          "base_uri": "https://localhost:8080/"
        },
        "id": "KG7o246yP1W0",
        "outputId": "c31b9829-3909-430e-b452-fe65aeaf2999"
      },
      "execution_count": null,
      "outputs": [
        {
          "output_type": "stream",
          "name": "stdout",
          "text": [
            "the output size :  torch.Size([1, 18])\n",
            "the next_hidden size :  torch.Size([1, 256])\n"
          ]
        }
      ]
    },
    {
      "cell_type": "code",
      "source": [
        "inp = names_to_tensor(\"charron\")\n",
        "\n",
        "hidden = torch.zeros(1 , n_hidden)\n",
        "\n",
        "\n",
        "output , nextHidden = rnn(inp[0] , hidden)"
      ],
      "metadata": {
        "id": "-XOc53zCQiFM"
      },
      "execution_count": null,
      "outputs": []
    },
    {
      "cell_type": "code",
      "source": [
        "print(output)"
      ],
      "metadata": {
        "colab": {
          "base_uri": "https://localhost:8080/"
        },
        "id": "1YLXkJEAROpU",
        "outputId": "fceae261-3b31-414c-a3fd-a9327f7dfe5d"
      },
      "execution_count": null,
      "outputs": [
        {
          "output_type": "stream",
          "name": "stdout",
          "text": [
            "tensor([[-2.8220, -2.9089, -2.9483, -2.8629, -2.7906, -2.8584, -2.9526, -2.9756,\n",
            "         -2.8337, -2.9035, -2.8394, -2.9262, -2.9165, -2.9429, -2.9285, -2.8194,\n",
            "         -2.8652, -2.9591]], grad_fn=<LogSoftmaxBackward0>)\n"
          ]
        }
      ]
    },
    {
      "cell_type": "code",
      "source": [
        "def languageFromOutput(output):\n",
        "\n",
        "    _, top_i = output.topk(1)\n",
        "\n",
        "    language_i = top_i[0].item()\n",
        "\n",
        "    return all_languages[language_i], language_i"
      ],
      "metadata": {
        "id": "Z4fg5uYVRelk"
      },
      "execution_count": null,
      "outputs": []
    },
    {
      "cell_type": "code",
      "source": [
        "print(languageFromOutput(output))"
      ],
      "metadata": {
        "colab": {
          "base_uri": "https://localhost:8080/"
        },
        "id": "NdimP4lSR8Sb",
        "outputId": "570621fc-92f1-4e6a-d078-d73650c61eb6"
      },
      "execution_count": null,
      "outputs": [
        {
          "output_type": "stream",
          "name": "stdout",
          "text": [
            "('Chinese', 4)\n"
          ]
        }
      ]
    },
    {
      "cell_type": "code",
      "source": [
        "import random\n",
        "\n",
        "def randomTrainingExample():\n",
        "\n",
        "    random_language_index = random.randint(0, n_languages - 1)\n",
        "    language = all_languages[random_language_index]\n",
        "\n",
        "    random_language_names = language_names[language]\n",
        "\n",
        "    name = random_language_names[random.randint(0, len(random_language_names) - 1)]\n",
        "\n",
        "    language_tensor = torch.tensor([all_languages.index(language)], dtype=torch.long)\n",
        "    name_tensor = names_to_tensor(name)\n",
        "\n",
        "    return language, name, language_tensor, name_tensor"
      ],
      "metadata": {
        "id": "f1IlPUfJR-5E"
      },
      "execution_count": null,
      "outputs": []
    },
    {
      "cell_type": "code",
      "source": [
        "for i in range(10):\n",
        "    language, name, language_tensor, name_tensor = randomTrainingExample()\n",
        "\n",
        "    print('language =', language, ', name =', name)"
      ],
      "metadata": {
        "colab": {
          "base_uri": "https://localhost:8080/"
        },
        "id": "jU7h-w_nSYyd",
        "outputId": "cdb7a955-5ba1-4c21-ec06-19a827d8b0f3"
      },
      "execution_count": null,
      "outputs": [
        {
          "output_type": "stream",
          "name": "stdout",
          "text": [
            "language = Dutch , name = Roijackers\n",
            "language = Greek , name = Geracimos\n",
            "language = Irish , name = O'Neal\n",
            "language = Spanish , name = Toset\n",
            "language = Spanish , name = Robledo\n",
            "language = Vietnamese , name = Thach\n",
            "language = Polish , name = Sokolowski\n",
            "language = Chinese , name = Thian\n",
            "language = Italian , name = Biondo\n",
            "language = German , name = Bretz\n"
          ]
        }
      ]
    },
    {
      "cell_type": "code",
      "source": [
        "criterion = nn.NLLLoss()\n",
        "learning_rate = 0.005"
      ],
      "metadata": {
        "id": "Dih9YsKuSh6G"
      },
      "execution_count": null,
      "outputs": []
    },
    {
      "cell_type": "code",
      "source": [
        "def train(langauge_tensor, name_tensor):\n",
        "\n",
        "    hidden = rnn.initHidden()\n",
        "\n",
        "    rnn.zero_grad()\n",
        "\n",
        "    for i in range(name_tensor.size()[0]):\n",
        "        output, hidden = rnn(name_tensor[i], hidden)\n",
        "\n",
        "    loss = criterion(output, langauge_tensor)\n",
        "    loss.backward()\n",
        "\n",
        "    for p in rnn.parameters():\n",
        "        p.data.add_(-learning_rate, p.grad.data)\n",
        "\n",
        "    return output, loss.item()"
      ],
      "metadata": {
        "id": "y93_n-b9Sqbm"
      },
      "execution_count": null,
      "outputs": []
    },
    {
      "cell_type": "code",
      "source": [
        "n_iters = 200000\n",
        "\n",
        "current_loss = 0\n",
        "all_losses = []"
      ],
      "metadata": {
        "id": "koXnVsNfSqd9"
      },
      "execution_count": null,
      "outputs": []
    },
    {
      "cell_type": "code",
      "source": [
        "for epoch in range(1, n_iters + 1):\n",
        "\n",
        "    language, name, language_tensor, name_tensor = randomTrainingExample()\n",
        "\n",
        "    output, loss = train(language_tensor, name_tensor)\n",
        "    current_loss += loss\n",
        "\n",
        "    if epoch % 5000 == 0:\n",
        "        guess, guess_i = languageFromOutput(output)\n",
        "        correct = '✓' if guess == language else '✗ (%s)' % language\n",
        "\n",
        "        print('%d %d%% %.4f %s / %s %s' % (epoch,\n",
        "                                           epoch / n_iters * 100,\n",
        "                                           loss,\n",
        "                                           name,\n",
        "                                           guess,\n",
        "                                           correct))\n",
        "\n",
        "    if epoch % 1000 == 0:\n",
        "        all_losses.append(current_loss / 1000)\n",
        "        current_loss = 0"
      ],
      "metadata": {
        "colab": {
          "base_uri": "https://localhost:8080/"
        },
        "id": "5RdEZO1cSqgl",
        "outputId": "88f90170-7d45-494b-f61c-fcd296b742ba"
      },
      "execution_count": null,
      "outputs": [
        {
          "output_type": "stream",
          "name": "stdout",
          "text": [
            "5000 2% 2.9509 Hughes / Arabic ✗ (Scottish)\n",
            "10000 5% 2.8114 Ross / German ✗ (Scottish)\n",
            "15000 7% 2.0279 Vazquez / Spanish ✓\n",
            "20000 10% 1.8482 Lagorio / Portuguese ✗ (Italian)\n",
            "25000 12% 2.5457 Curtis / Greek ✗ (English)\n",
            "30000 15% 0.2038 Charoshnikov / Russian ✓\n",
            "35000 17% 0.8311 Bello / Italian ✓\n",
            "40000 20% 2.8113 Entler / German ✗ (Czech)\n",
            "45000 22% 1.5925 Sum / Korean ✗ (Chinese)\n",
            "50000 25% 1.2575 Starek / Czech ✗ (Polish)\n",
            "55000 27% 1.3102 Daviau / French ✓\n",
            "60000 30% 0.8928 Paschalis / Russian ✗ (Greek)\n",
            "65000 32% 1.4574 StrakaO / Czech ✓\n",
            "70000 35% 0.6035 Armati / Italian ✓\n",
            "75000 37% 0.0362 Emyashev / Russian ✓\n",
            "80000 40% 1.1207 Delgado / Spanish ✗ (Portuguese)\n",
            "85000 42% 0.8234 Mikhin / Russian ✓\n",
            "90000 45% 2.2490 Russell / Dutch ✗ (Scottish)\n",
            "95000 47% 1.5573 Bitar / Scottish ✗ (Arabic)\n",
            "100000 50% 7.7339 Shamota / Japanese ✗ (Russian)\n",
            "105000 52% 0.0140 Krakowski / Polish ✓\n",
            "110000 55% 0.8671 Muhlfeld / German ✓\n",
            "115000 57% 0.1306 Naomhan / Irish ✓\n",
            "120000 60% 0.2450 Si / Korean ✓\n",
            "125000 62% 4.3953 Jones / Dutch ✗ (Scottish)\n",
            "130000 65% 0.3527 Diep / Vietnamese ✓\n",
            "135000 67% 4.2436 Lyon / Korean ✗ (French)\n",
            "140000 70% 2.2866 Tasse / Japanese ✗ (French)\n",
            "145000 72% 0.1892 Yu / Korean ✓\n",
            "150000 75% 0.2415 Mikolajczak / Polish ✓\n",
            "155000 77% 0.4278 Aodh / Irish ✓\n",
            "160000 80% 0.2239 Si / Korean ✓\n",
            "165000 82% 0.2588 Wojda / Polish ✓\n",
            "170000 85% 1.6847 Kennedy / Dutch ✗ (Scottish)\n",
            "175000 87% 1.9591 Eburne / French ✗ (English)\n",
            "180000 90% 0.0521 O'Boyle / Irish ✓\n",
            "185000 92% 0.3843 Thomson / Scottish ✓\n",
            "190000 95% 0.1272 Valentini / Italian ✓\n",
            "195000 97% 2.2033 Santos / Portuguese ✗ (Spanish)\n",
            "200000 100% 2.0275 Daher / Korean ✗ (Arabic)\n"
          ]
        }
      ]
    },
    {
      "cell_type": "code",
      "source": [
        "import matplotlib.pyplot as plt\n",
        "\n",
        "plt.figure(figsize=(10, 8))\n",
        "plt.plot(all_losses)\n",
        "plt.show()"
      ],
      "metadata": {
        "colab": {
          "base_uri": "https://localhost:8080/",
          "height": 676
        },
        "id": "8mg9-5adSqi5",
        "outputId": "27db874f-0ec7-4b1b-d2ea-6609c88d3633"
      },
      "execution_count": null,
      "outputs": [
        {
          "output_type": "display_data",
          "data": {
            "text/plain": [
              "<Figure size 1000x800 with 1 Axes>"
            ],
            "image/png": "[encoded data removed]"
          },
          "metadata": {}
        }
      ]
    },
    {
      "cell_type": "code",
      "source": [
        "n_predictions = 3"
      ],
      "metadata": {
        "id": "-nzmMKVNS0rQ"
      },
      "execution_count": null,
      "outputs": []
    },
    {
      "cell_type": "code",
      "source": [
        "input_name = 'mohammad' #Re-run for 'Amaya' and 'Bukoski'"
      ],
      "metadata": {
        "id": "nu3ZI-vDS0uG"
      },
      "execution_count": null,
      "outputs": []
    },
    {
      "cell_type": "code",
      "source": [
        "with torch.no_grad():\n",
        "\n",
        "    name_tensor = names_to_tensor(input_name)\n",
        "\n",
        "    hidden = rnn.initHidden()\n",
        "    for i in range(name_tensor.size()[0]):\n",
        "        output, hidden = rnn(name_tensor[i], hidden)\n",
        "\n",
        "    topv, topi = output.topk(n_predictions, 1, True)\n",
        "\n",
        "    for i in range(n_predictions):\n",
        "\n",
        "        value = topv[0][i].item()\n",
        "        language_index = topi[0][i].item()\n",
        "\n",
        "        print('(%.2f) %s' % (value, all_languages[language_index]))"
      ],
      "metadata": {
        "colab": {
          "base_uri": "https://localhost:8080/"
        },
        "id": "PDUH1q4bS0wU",
        "outputId": "d755dc37-305c-4309-c82d-9b2590b6fa2a"
      },
      "execution_count": null,
      "outputs": [
        {
          "output_type": "stream",
          "name": "stdout",
          "text": [
            "(-0.55) Arabic\n",
            "(-1.93) Japanese\n",
            "(-2.24) German\n"
          ]
        }
      ]
    },
    {
      "cell_type": "code",
      "source": [],
      "metadata": {
        "id": "JxSRfS4xS0yn"
      },
      "execution_count": null,
      "outputs": []
    }
  ]
}